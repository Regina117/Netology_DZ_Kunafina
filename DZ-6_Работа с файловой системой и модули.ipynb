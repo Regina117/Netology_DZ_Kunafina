{
 "cells": [
  {
   "cell_type": "markdown",
   "metadata": {},
   "source": [
    "Переведите содержимое файла purchase_log.txt в словарь purchases вида:\n",
    "{‘1840e0b9d4’: ‘Продукты’, …}"
   ]
  },
  {
   "cell_type": "markdown",
   "metadata": {},
   "source": [
    "Для каждого user_id в файле visit_log.csv определите третий столбец с категорией покупки (если покупка была, сам файл visit_log.csv изменять не надо). Запишите в файл funnel.csv визиты из файла visit_log.csv, в которых были покупки с указанием категории. Учтите условия на данные: содержимое purchase_log.txt помещается в оперативную память компьютера содержимое visit_log.csv - нет; используйте только построчную обработку этого файла"
   ]
  },
  {
   "cell_type": "code",
   "execution_count": 103,
   "metadata": {},
   "outputs": [
    {
     "name": "stdout",
     "output_type": "stream",
     "text": [
      "<_io.TextIOWrapper name='funnel.csv' mode='w' encoding='utf-8'>\n"
     ]
    }
   ],
   "source": [
    "import json\n",
    "purchase = {}\n",
    "i = 0\n",
    "with open('purchase_log.txt', 'r', encoding ='utf-8') as f:\n",
    "    for line in f:\n",
    "        line = line.strip()\n",
    "        dict_ = json.loads(line)\n",
    "        purchase[dict_['user_id']] = dict_['category']\n",
    "        #print(purchase)\n",
    "        i += 1\n",
    "        if i > 10:\n",
    "            break\n",
    "with open('visit_log.csv', 'r', encoding ='utf-8') as f1:\n",
    "    with open('funnel.csv', 'w', encoding ='utf-8') as f3:\n",
    "        for row in f1:\n",
    "            visits = row.strip().split(',')\n",
    "            category = purchase.get(visits[0])\n",
    "            if category:\n",
    "                visits.append(category)\n",
    "                f3.write(','.join(visits) + '\\n')\n",
    "print(f3)"
   ]
  },
  {
   "cell_type": "code",
   "execution_count": 104,
   "metadata": {},
   "outputs": [
    {
     "data": {
      "text/plain": [
       "'user_id,source,category\\n'"
      ]
     },
     "execution_count": 104,
     "metadata": {},
     "output_type": "execute_result"
    }
   ],
   "source": [
    "f3 = open('funnel.csv', 'r', encoding ='utf-8')\n",
    "f3.readline()\n"
   ]
  },
  {
   "cell_type": "code",
   "execution_count": 105,
   "metadata": {},
   "outputs": [],
   "source": [
    "content = f3.readlines()"
   ]
  },
  {
   "cell_type": "code",
   "execution_count": 107,
   "metadata": {},
   "outputs": [
    {
     "data": {
      "text/plain": [
       "['1840e0b9d4,other,Продукты\\n',\n",
       " '4e4f90fcfb,context,Электроника\\n',\n",
       " 'afea8d72fc,other,Электроника\\n',\n",
       " '373a6055fe,other,Бытовая техника\\n',\n",
       " '9b2ab046f3,other,Электроника\\n',\n",
       " '9f39d307c3,context,Электроника\\n',\n",
       " '44edeffc91,context,Продукты\\n',\n",
       " '704474fa2d,other,Продукты\\n',\n",
       " '1de31be403,other,Бытовая техника\\n',\n",
       " 'b71f36a5e4,other,Продукты\\n']"
      ]
     },
     "execution_count": 107,
     "metadata": {},
     "output_type": "execute_result"
    }
   ],
   "source": [
    "content[:10]"
   ]
  },
  {
   "cell_type": "code",
   "execution_count": null,
   "metadata": {},
   "outputs": [],
   "source": []
  }
 ],
 "metadata": {
  "kernelspec": {
   "display_name": "Python 3",
   "language": "python",
   "name": "python3"
  },
  "language_info": {
   "codemirror_mode": {
    "name": "ipython",
    "version": 3
   },
   "file_extension": ".py",
   "mimetype": "text/x-python",
   "name": "python",
   "nbconvert_exporter": "python",
   "pygments_lexer": "ipython3",
   "version": "3.8.3"
  }
 },
 "nbformat": 4,
 "nbformat_minor": 4
}
