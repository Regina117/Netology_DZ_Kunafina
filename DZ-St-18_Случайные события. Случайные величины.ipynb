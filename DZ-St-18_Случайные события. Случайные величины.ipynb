{
 "cells": [
  {
   "cell_type": "markdown",
   "metadata": {},
   "source": [
    "# Домашнее задание к лекции «Случайные события. Случайные величины»"
   ]
  },
  {
   "cell_type": "markdown",
   "metadata": {},
   "source": [
    "Смоделировать игру против лотерейного автомата типа “777”. Игрок платит 1 руб., после чего выпадает случайное целое число, равномерно распределенное от 0 до 999. При некоторых значениях числа игрок получает выигрыш (см. справа)\n",
    "\n",
    "Выгодна ли игра игроку?\n",
    "\n",
    "Сколько в среднем приобретает\n",
    "или теряет игрок за одну игру?\n",
    "\n",
    "777: 200 руб.\n",
    "999: 100 руб.\n",
    "555: 50 руб.\n",
    "333: 15 руб.\n",
    "111: 10 руб.\n",
    "*77: 5 руб.\n",
    "**7: 3 руб.\n",
    "*00: 2 руб.\n",
    "**0: 1 руб.\n",
    "\n",
    "– любая цифра\n",
    "Дополнительное задание повышенной сложности. Теоретически рассчитать средний выигрыш (проигрыш) и сравнить с результатами моделирования"
   ]
  },
  {
   "cell_type": "code",
   "execution_count": 2,
   "metadata": {},
   "outputs": [],
   "source": [
    "import numpy as np"
   ]
  },
  {
   "cell_type": "code",
   "execution_count": 5,
   "metadata": {},
   "outputs": [
    {
     "name": "stdout",
     "output_type": "stream",
     "text": [
      "потратил 10000000 руб.\n",
      "проиграл из тех что вложил 1992756 руб.\n",
      "Вероятность из моделирования: 0.2040275\n",
      "В среднем игрок теряет: 19.9 %\n"
     ]
    }
   ],
   "source": [
    "np.random.seed(None)\n",
    "trials = 10000000 #количество попыток\n",
    "successes = 0 #количество успехов\n",
    "win = 0 #выигрыш\n",
    "\n",
    "for i in range(trials):\n",
    "    number = np.random.randint(0, 1000)\n",
    "    if number == 777:\n",
    "        successes +=1\n",
    "        win += 200\n",
    "    elif number == 999:\n",
    "        successes +=1\n",
    "        win += 100\n",
    "    elif number == 555:\n",
    "        successes +=1\n",
    "        win += 50\n",
    "    elif number == 333:\n",
    "        successes +=1\n",
    "        win += 15\n",
    "    elif number == 111:\n",
    "        successes +=1\n",
    "        win += 10\n",
    "    elif number%100 == 77:\n",
    "        successes +=1\n",
    "        win += 5\n",
    "    elif number%10 == 7:\n",
    "        successes +=1\n",
    "        win += 3\n",
    "    elif number%100 == 0:\n",
    "        successes +=1\n",
    "        win += 2\n",
    "    elif number%10 == 0:\n",
    "        successes +=1\n",
    "        win += 1   \n",
    "\n",
    "p_monte_carlo = successes / trials        \n",
    "print(f'потратил {trials} руб.') \n",
    "print(f'проиграл из тех что вложил {trials-win} руб.') \n",
    "print(f'Вероятность из моделирования: {p_monte_carlo}')\n",
    "print(f'В среднем игрок теряет: {round(100 - ((100 /trials) * win),1)} %')       "
   ]
  },
  {
   "cell_type": "markdown",
   "metadata": {},
   "source": [
    "Комментарий преподавателя\n",
    "Регина, абсолютно верное моделирование, но я бы рекомендовал увеличить количество испытаний, чтобы \"стабилизировать\" результат. При миллионе мы уже будем получать расчетную частоту максимально приближенную к теоретической (потеря 20 рублей на каждые 100). При вашем количестве испытаний будет сильный разброс (чем больше разных исходов, тем больше нужно испытаний для максимального приближения частоты к вероятности).\n",
    "\n",
    "А чтобы рассчитать средний проигрыш теоретически надо было определить вероятность каждого выигрышного исхода и воспользоваться формулой P1*X1 + P2*X2 + ... + Pn*Xn, вот так:\n",
    "\n",
    "res = 0.001*(200 + 100 + 50 + 15 + 10) + (9/1000)*5 + (10/1000)*2 + ((99-9)/1000)*3 + ((100-10)/1000)*1\n",
    "res\n",
    "\n",
    "Зачет."
   ]
  },
  {
   "cell_type": "code",
   "execution_count": 1,
   "metadata": {},
   "outputs": [
    {
     "data": {
      "text/plain": [
       "0.7999999999999999"
      ]
     },
     "execution_count": 1,
     "metadata": {},
     "output_type": "execute_result"
    }
   ],
   "source": [
    "res = 0.001*(200 + 100 + 50 + 15 + 10) + (9/1000)*5 + (10/1000)*2 + ((99-9)/1000)*3 + ((100-10)/1000)*1\n",
    "res"
   ]
  },
  {
   "cell_type": "code",
   "execution_count": null,
   "metadata": {},
   "outputs": [],
   "source": []
  }
 ],
 "metadata": {
  "kernelspec": {
   "display_name": "Python 3",
   "language": "python",
   "name": "python3"
  },
  "language_info": {
   "codemirror_mode": {
    "name": "ipython",
    "version": 3
   },
   "file_extension": ".py",
   "mimetype": "text/x-python",
   "name": "python",
   "nbconvert_exporter": "python",
   "pygments_lexer": "ipython3",
   "version": "3.8.3"
  }
 },
 "nbformat": 4,
 "nbformat_minor": 4
}
