{
 "cells": [
  {
   "cell_type": "markdown",
   "metadata": {},
   "source": [
    "Домашнее задание к лекции «Регулярные выражения и основы синтаксического разбора»\n",
    "Файл к домашней работе можно найти здесь https://github.com/obulygin/pyda_homeworks/blob/master/regex/regex.ipynb\n",
    "\n",
    "Внимание! При реализации всех заданий необходимо использовать именно функционал регулярных выражений для обработки текста."
   ]
  },
  {
   "cell_type": "markdown",
   "metadata": {},
   "source": [
    "Задание 1\n",
    "Напишите функцию, которая принимает на вход строку и проверяет является ли она валидным транспортным номером (1 буква, 3 цифры, 2 буквы, 2-3 цифры). Обратите внимание, что не все буквы кириллического алфавита используются в транспортных номерах.\n",
    "\n",
    "Если номер валиден, то функция должна возвращать отдельно номер и регион.\n",
    "\n",
    "Примеры работы программы:\n",
    "\n",
    "car_id = 'A222BC96'\n",
    "Результат: Номер A222BС валиден. Регион: 96\n",
    "\n",
    "car_id = 'АБ22ВВ193'\n",
    "Результат: Номер не валиден"
   ]
  },
  {
   "cell_type": "code",
   "execution_count": 1,
   "metadata": {},
   "outputs": [
    {
     "name": "stdout",
     "output_type": "stream",
     "text": [
      " Номер ['А222ВС'] валиден. Регион: ['96']\n"
     ]
    }
   ],
   "source": [
    "import re\n",
    "car_id = 'А222ВС96'  \n",
    "result = re.findall(r'^[АВЕКМНОРСТУХ]\\d{3}[АВЕКМНОРСТУХ]{2}\\d{2}$', car_id)\n",
    "result1 = re.findall(r'^[АВЕКМНОРСТУХ]\\d{3}[АВЕКМНОРСТУХ]{2}', car_id) \n",
    "result2 = re.findall(r'\\d{2}$', car_id) \n",
    "if result:\n",
    "    print(f' Номер {result1} валиден. Регион: {result2}')\n",
    "else:\n",
    "    print('Номер не валиден')\n",
    "#В 1 задаче можно было не прописывать несколько почти одинаковых шаблонов, \n",
    "#а использовать скобочные группы, чтобы отделить регион от номера."
   ]
  },
  {
   "cell_type": "code",
   "execution_count": 2,
   "metadata": {},
   "outputs": [
    {
     "name": "stdout",
     "output_type": "stream",
     "text": [
      "Введите гос номерА123РТ750\n",
      "Номер А123РТ750 правильный\n"
     ]
    },
    {
     "data": {
      "text/plain": [
       "['123', '750']"
      ]
     },
     "execution_count": 2,
     "metadata": {},
     "output_type": "execute_result"
    }
   ],
   "source": [
    "number_car=input('Введите гос номер')\n",
    "def print_num_reg(number):\n",
    "    regex_number='^[АВЕКМНОРСТУХ]\\d{3}(?<!000)[АВЕКМНОРСТУХ]{2}\\d{2,3}'\n",
    "    if re.match(regex_number, number):\n",
    "        print('Номер {} правильный'.format(number))\n",
    "        regex=r'\\d+'\n",
    "        number_and_region=re.findall(regex, number)\n",
    "        return number_and_region\n",
    "    else:\n",
    "        print ('Номер неверный!')\n",
    "print_num_reg(number_car)"
   ]
  },
  {
   "cell_type": "markdown",
   "metadata": {},
   "source": [
    "\n",
    "Задание 2\n",
    "Напишите функцию, которая будет удалять все последовательные повторы слов из заданной строки при помощи регулярных выражений.\n",
    "\n",
    "Пример работы программы:\n",
    "\n",
    "some_string = 'Напишите функцию функцию, которая будет будет будет будет удалять все все все все последовательные повторы слов из из из из заданной строки строки при помощи регулярных выражений.'\n",
    "\n",
    "Результат:\n",
    "Напишите функцию, которая будет удалять все последовательные повторы слов из заданной строки при помощи регулярных выражений."
   ]
  },
  {
   "cell_type": "code",
   "execution_count": 5,
   "metadata": {},
   "outputs": [
    {
     "name": "stdout",
     "output_type": "stream",
     "text": [
      "Напишите функцию которая будет удалять все последовательные повторы слов из заданной строки при помощи регулярных выражений \n"
     ]
    }
   ],
   "source": [
    "import re\n",
    "some_string = 'Напишите функцию функцию, которая будет будет будет будет удалять все все все все последовательные повторы слов из из из из заданной строки строки при помощи регулярных выражений.'\n",
    "print(re.sub(r'\\b([^\\W\\d_]+)(\\s+\\1)+\\b', r'\\1', re.sub(r'\\W+', ' ', some_string)))"
   ]
  },
  {
   "cell_type": "code",
   "execution_count": 13,
   "metadata": {},
   "outputs": [
    {
     "data": {
      "text/plain": [
       "'НАПИШИТЕ ФУНКЦИЮ КОТОРАЯ БУДЕТ УДАЛЯТЬ ВСЕ ПОСЛЕДОВАТЕЛЬНЫЕ ПОВТОРЫ СЛОВ ИЗ ЗАДАННОЙ СТРОКИ ПРИ ПОМОЩИ РЕГУЛЯРНЫХ ВЫРАЖЕНИЙ '"
      ]
     },
     "execution_count": 13,
     "metadata": {},
     "output_type": "execute_result"
    }
   ],
   "source": [
    "some_string = 'Напишите функцию функцию, которая будет будет будет будет удалять все все все все последовательные повторы слов из из из из заданной строки строки при помощи регулярных выражений.'\n",
    "def word_cut(some_string):\n",
    "    return re.sub(r'\\b([^\\W\\d_]+)(\\s+\\1)+\\b', r'\\1', re.sub(r'\\W+', ' ', some_string))\n",
    "word_cut(some_string)"
   ]
  },
  {
   "cell_type": "code",
   "execution_count": 7,
   "metadata": {},
   "outputs": [
    {
     "data": {
      "text/plain": [
       "'to be the was were be'"
      ]
     },
     "execution_count": 7,
     "metadata": {},
     "output_type": "execute_result"
    }
   ],
   "source": [
    "def regex_replay(string):\n",
    "    regex=r'(.+?)\\1+'\n",
    "    result=re.sub(regex, r'\\1',string)\n",
    "    return result\n",
    "regex_replay('too be be the was were were be be be')"
   ]
  },
  {
   "cell_type": "markdown",
   "metadata": {},
   "source": [
    "Задание 3\n",
    "Напишите функцию, которая будет возвращать акроним по переданной в нее строке со словами.\n",
    "\n",
    "Примеры работы программы: some_words = 'Информационные технологии' Результат: ИТ \n",
    "some_words = 'Near Field Communication'Результат: NFC"
   ]
  },
  {
   "cell_type": "code",
   "execution_count": 7,
   "metadata": {},
   "outputs": [
    {
     "data": {
      "text/plain": [
       "'ИТ'"
      ]
     },
     "execution_count": 7,
     "metadata": {},
     "output_type": "execute_result"
    }
   ],
   "source": [
    "import re\n",
    "some_words = 'Информационные технологии' \n",
    "def get_acronym(some_words):\n",
    "    return re.sub(r'(\\w)\\w+(\\s|$)', r'\\1', some_words).upper()\n",
    "get_acronym(some_words)\n",
    "#.upper() заглавные буквы"
   ]
  },
  {
   "cell_type": "code",
   "execution_count": 6,
   "metadata": {},
   "outputs": [
    {
     "name": "stdout",
     "output_type": "stream",
     "text": [
      "Информационные технологии\n"
     ]
    },
    {
     "data": {
      "text/plain": [
       "'Ит'"
      ]
     },
     "execution_count": 6,
     "metadata": {},
     "output_type": "execute_result"
    }
   ],
   "source": [
    "#второе решение\n",
    "import re\n",
    "print_str=input()\n",
    "def print_acronym(string):\n",
    "    regex=r'(\\b\\w)'\n",
    "    list_find=re.findall(regex, string)\n",
    "    str_find=''.join(list_find)\n",
    "    return (str_find)\n",
    "print_acronym(print_str)"
   ]
  },
  {
   "cell_type": "markdown",
   "metadata": {},
   "source": [
    "Задание 4\n",
    "Напишите функцию, которая будет принимать на вход список email-адресов и выводить их распределение по доменным зонам.\n",
    "\n",
    "Пример работы программы:\n",
    "\n",
    "emails = ['test@gmail.com', 'xyz@test.in', 'test@ya.ru', 'xyz@mail.ru', 'xyz@ya.ru', 'xyz@gmail.com']\n",
    "\n",
    "Результат:\n",
    "\n",
    "gmail.com: 2\n",
    "test.in: 1 \n",
    "ya.ru: 2 \n",
    "mail.ru: 1"
   ]
  },
  {
   "cell_type": "code",
   "execution_count": 23,
   "metadata": {},
   "outputs": [
    {
     "name": "stdout",
     "output_type": "stream",
     "text": [
      "{'gmail.com': 2, 'test.in': 1, 'ya.ru': 2, 'mail.ru': 1}\n"
     ]
    }
   ],
   "source": [
    "import re\n",
    "result = re.findall(r'\\w+\\.\\w+', 'test@gmail.com, xyz@test.in, test@ya.ru, xyz@mail.ru, xyz@ya.ru, xyz@gmail.com')\n",
    "my_dict = {i:result.count(i) for i in result}\n",
    "print(my_dict)"
   ]
  },
  {
   "cell_type": "code",
   "execution_count": 10,
   "metadata": {},
   "outputs": [
    {
     "data": {
      "text/plain": [
       "{'gmail.com': 2, 'test.in': 1, 'ya.ru': 2, 'mail.ru': 1}"
      ]
     },
     "execution_count": 10,
     "metadata": {},
     "output_type": "execute_result"
    }
   ],
   "source": [
    "emails = 'test@gmail.com, xyz@test.in, test@ya.ru, xyz@mail.ru, xyz@ya.ru, xyz@gmail.com'\n",
    "def my_dict(emails):\n",
    "    result = re.findall(r'\\w+\\.\\w+', emails)\n",
    "    my_dict = {i:result.count(i) for i in result}\n",
    "    return my_dict\n",
    "my_dict(emails)\n"
   ]
  },
  {
   "cell_type": "markdown",
   "metadata": {},
   "source": [
    "Задание 5 (необязательное)\n",
    "Напишите функцию, которая будет подсчитывать сколько слов начинается на гласные, а сколько на согласные буквы в тексте (текст может быть написан как с использованием букв кириллицы, так и латиницы).\n",
    "\n",
    "Пример работы программы:\n",
    "\n",
    "some_text = 'Эталонной реализацией Python является интерпретатор CPython, поддерживающий большинство активно используемых платформ. Он распространяется под свободной лицензией Python Software Foundation License, позволяющей использовать его без ограничений в любых приложениях, включая проприетарные.'\n",
    "\n",
    "Результат:\n",
    "\n",
    "Слов на гласные буквы: 9\n",
    "Слов на согласные буквы: 21"
   ]
  },
  {
   "cell_type": "code",
   "execution_count": 72,
   "metadata": {},
   "outputs": [
    {
     "name": "stdout",
     "output_type": "stream",
     "text": [
      "['реализацией', 'Python', 'CPython', 'поддерживающий', 'большинство', 'платформ', 'распространяется', 'под', 'свободной', 'лицензией', 'Python', 'Software', 'Foundation', 'License', 'позволяющей', 'без', 'в', 'любых', 'приложениях', 'включая', 'проприетарные']\n",
      "Слов на гласные буквы: 9  Слов на согласные буквы: 21\n"
     ]
    }
   ],
   "source": [
    "some_text = 'Эталонной реализацией Python является интерпретатор CPython, поддерживающий большинство активно используемых платформ. Он распространяется под свободной лицензией Python Software Foundation License, позволяющей использовать его без ограничений в любых приложениях, включая проприетарные.'\n",
    "result_А = re.findall(r'\\b[ЭэиоОеюуая]\\w*', some_text)\n",
    "result_B = re.findall(r'\\b[бвгджзклмнпрйстфхцчшщьъPCSFL]\\w*', some_text)\n",
    "print(result_B)\n",
    "print(f'Слов на гласные буквы: {len(result_А)}  Слов на согласные буквы: {len(result_B)}')"
   ]
  },
  {
   "cell_type": "markdown",
   "metadata": {},
   "source": [
    "Напишите функцию, которая проверяет e-mail адрес на валидность по стандарту RFC822: http://www.w3.org/Protocols/rfc822/. Для этого постарайтесь написать (в крайнем случае найти) самый полный шаблон для проверки e-mail адресов через регулярное выражение. Разберитесь и напишите примеры, какие ваш шаблон может не охватить."
   ]
  },
  {
   "cell_type": "code",
   "execution_count": 3,
   "metadata": {},
   "outputs": [
    {
     "name": "stdout",
     "output_type": "stream",
     "text": [
      "kun@km.ru\n",
      "Email верный kun@km.ru\n"
     ]
    }
   ],
   "source": [
    "email=input()\n",
    "def email_check(email_entered):\n",
    "    email_rendex='(^|\\s)[-a-z0-9_.]+@([-a-z0-9]+\\.)+[a-z]{2,6}(\\s|$)'\n",
    "    if re.match(email_rendex, email_entered):\n",
    "        print('Email верный {}'.format(email_entered))\n",
    "    else:\n",
    "        print ('Неверная информация!')\n",
    "email_check(email)"
   ]
  },
  {
   "cell_type": "markdown",
   "metadata": {},
   "source": [
    "Напишите функцию, которая будет проверять номер сотового телефона на валидность, если он валиден, то переводить его в формат:\n",
    "+7(xxx)-xxx-xx-xx\n",
    "Постарайтесь предусмотреть как можно больше адекватных форматов изначального ввода номера. Примеры правильных и неправильных форматов:\n",
    "\n",
    "+1 555 555-55-55;\n",
    "5555555555;\n",
    "555555555;\n",
    "8(555)555-55-55;\n",
    "+7 555 555 55 55;\n",
    "7(555) 555-55-55;\n",
    "+7 555+555+55+55."
   ]
  },
  {
   "cell_type": "code",
   "execution_count": 8,
   "metadata": {},
   "outputs": [
    {
     "name": "stdout",
     "output_type": "stream",
     "text": [
      "+7-(555)-555-5-5\n",
      "+7-(555)-555-5-5\n",
      "+7-(555)-555-5-5\n",
      "+7-(555)-555-5-5\n"
     ]
    }
   ],
   "source": [
    "numbers=[\n",
    "    '+1 555 555-55-55',\n",
    "    '6555555555',\n",
    "    '555555555',\n",
    "    '8(555)555-55-55',\n",
    "    '+7 555 555 55 55',\n",
    "    '7(555) 555-55-55',\n",
    "    '+7 555+555+55+55'\n",
    "]\n",
    "def val_number(data):\n",
    "    for val in numbers:\n",
    "        rendex=r'(8|\\+7|7)(\\s*)?(\\+)?([- _():=+]?\\d[- _():=+]?){10}(\\s*)?' \n",
    "        if re.search(rendex, val):\n",
    "            rendex_num='\\d'\n",
    "            number=re.findall(rendex_num, val)\n",
    "            print ('+7-({})-{}-{}-{}'.format(''.join(number[1:4]),''.join(number[4:7]),''.join(number[7:8]),''.join(number[8:9])))\n",
    "val_number(numbers)"
   ]
  },
  {
   "cell_type": "code",
   "execution_count": null,
   "metadata": {},
   "outputs": [],
   "source": []
  }
 ],
 "metadata": {
  "kernelspec": {
   "display_name": "Python 3",
   "language": "python",
   "name": "python3"
  },
  "language_info": {
   "codemirror_mode": {
    "name": "ipython",
    "version": 3
   },
   "file_extension": ".py",
   "mimetype": "text/x-python",
   "name": "python",
   "nbconvert_exporter": "python",
   "pygments_lexer": "ipython3",
   "version": "3.8.3"
  }
 },
 "nbformat": 4,
 "nbformat_minor": 4
}
