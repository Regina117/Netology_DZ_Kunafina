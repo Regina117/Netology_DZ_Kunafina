{
 "cells": [
  {
   "cell_type": "markdown",
   "metadata": {},
   "source": [
    "# Домашнее задание «Управляющие конструкции и коллекции» часть 1"
   ]
  },
  {
   "cell_type": "markdown",
   "metadata": {},
   "source": [
    "Задание 1 Дана переменная, в которой хранится слово из латинских букв. Напишите код, который выводит на экран:\n",
    "среднюю букву, если число букв в слове нечетное; две средних буквы, если число букв четное."
   ]
  },
  {
   "cell_type": "code",
   "execution_count": 2,
   "metadata": {},
   "outputs": [
    {
     "name": "stdout",
     "output_type": "stream",
     "text": [
      "красота\n",
      "с\n"
     ]
    }
   ],
   "source": [
    "my_string = str(input()) #вводим слово\n",
    "a = len(my_string) #длина слова\n",
    "b = a/2 \n",
    "if len(my_string)%2 == 0: #если длина четное значение букв, то печетаем 2 средние буквы, а это a/2-1; a/2+1\n",
    "    print(my_string[int(b)-1:int(b)+1])\n",
    "else:\n",
    "    print(my_string[int(b)])"
   ]
  },
  {
   "cell_type": "code",
   "execution_count": 4,
   "metadata": {},
   "outputs": [
    {
     "name": "stdout",
     "output_type": "stream",
     "text": [
      "краски\n",
      "ас\n"
     ]
    }
   ],
   "source": [
    "my_string = str(input())\n",
    "a = len(my_string)\n",
    "b = a/2\n",
    "if len(my_string)%2 == 0:\n",
    "    print(my_string[int(b)-1:int(b)+1])\n",
    "else:\n",
    "    print(my_string[int(b)])"
   ]
  },
  {
   "cell_type": "markdown",
   "metadata": {},
   "source": [
    "Задание 2 Напишите программу, которая последовательно запрашивает у пользователя числа (по одному за раз) и после первого нуля выводит сумму всех ранее введенных чисел."
   ]
  },
  {
   "cell_type": "code",
   "execution_count": 2,
   "metadata": {},
   "outputs": [
    {
     "name": "stdout",
     "output_type": "stream",
     "text": [
      "Введите число: 3\n",
      "Введите число: 4\n",
      "Введите число: 6\n",
      "Введите число: 0\n",
      "13\n"
     ]
    }
   ],
   "source": [
    "sum = 0\n",
    "while True:\n",
    "    num = int(input('Введите число: '))\n",
    "    sum += num\n",
    "    if num == 0:\n",
    "        print(sum)\n",
    "        break"
   ]
  },
  {
   "cell_type": "markdown",
   "metadata": {},
   "source": [
    "Задание 3 Мы делаем MVP dating-сервиса, и у нас есть список парней и девушек. Выдвигаем гипотезу: лучшие рекомендации мы получим, если просто отсортируем имена по алфавиту и познакомим людей с одинаковыми индексами после сортировки! Но мы не будем никого знакомить, если кто-то может остаться без пары:"
   ]
  },
  {
   "cell_type": "code",
   "execution_count": 3,
   "metadata": {},
   "outputs": [
    {
     "name": "stdout",
     "output_type": "stream",
     "text": [
      "Идеальная пара: \n",
      "Ira  и  Alex\n",
      "Karina  и  Ben\n",
      "Lena  и  Mark\n",
      "Nastya  и  Peter\n"
     ]
    }
   ],
   "source": [
    "boys = ['Alex', 'Ben', 'Mark', 'Peter']\n",
    "girls = ['Ira', 'Karina', 'Lena', 'Nastya']\n",
    "list(zip(girls, boys))\n",
    "if len(boys) == len(girls):\n",
    "    print('Идеальная пара: ')\n",
    "    for boy, girl in zip(girls, boys):\n",
    "        print(boy, ' и ', girl)\n",
    "else:\n",
    "    print('Внимание, кто-то может остаться без пары!')"
   ]
  },
  {
   "cell_type": "code",
   "execution_count": 1,
   "metadata": {},
   "outputs": [
    {
     "name": "stdout",
     "output_type": "stream",
     "text": [
      "Внимание, кто-то может остаться без пары!\n"
     ]
    }
   ],
   "source": [
    "boys = ['Alex', 'Ben', 'Mark', 'Peter']\n",
    "girls = ['Ira', 'Karina', 'Lena', 'Nastya', 'Trisha']\n",
    "list(zip(girls, boys))\n",
    "if len(boys) == len(girls):\n",
    "    print('Идеальная пара: ')\n",
    "    for boy, girl in zip(girls, boys):\n",
    "        print(boy, ' и ', girl)\n",
    "else:\n",
    "    print('Внимание, кто-то может остаться без пары!')"
   ]
  },
  {
   "cell_type": "markdown",
   "metadata": {},
   "source": [
    "Задание 4 У нас есть список, содержащий информацию о среднедневной температуре в Фаренгейтах за произвольный период по странам (структура данных в примере). Необходимо написать код, который рассчитает среднюю температуру за период в Цельсиях(!) для каждой страны. Формулаперевода (Ф - 32) * 5/9"
   ]
  },
  {
   "cell_type": "code",
   "execution_count": 2,
   "metadata": {},
   "outputs": [
    {
     "name": "stdout",
     "output_type": "stream",
     "text": [
      "Средняя температура в странах: \n",
      "\n",
      "Thailand average temperature 23.9 C \n",
      "\n",
      "Germany average temperature 13.8 C \n",
      "\n",
      "Russia average temperature 3.7 C \n",
      "\n",
      "Poland average temperature 12.0 C \n",
      "\n"
     ]
    }
   ],
   "source": [
    "countries_temperature = [\n",
    "['Thailand', [75.2, 77, 78.8, 73.4, 68, 75.2, 77]],\n",
    "['Germany', [57.2, 55.4, 59, 59, 53.6]],\n",
    "['Russia', [35.6, 37.4, 39.2, 41, 42.8, 39.2, 35.6]],\n",
    "['Poland', [50, 50, 53.6, 57.2, 55.4, 55.4]]\n",
    "]\n",
    "print('Средняя температура в странах:', '\\n')\n",
    "for country in countries_temperature:\n",
    "    print(country[0], 'average temperature', (round(((sum(country[1]))/(len(country[1]))-32)*5/9, 1)), 'C', '\\n')"
   ]
  },
  {
   "cell_type": "code",
   "execution_count": 1,
   "metadata": {},
   "outputs": [
    {
     "name": "stdout",
     "output_type": "stream",
     "text": [
      "Thailand - 23.9 C\n",
      "Germany - 13.8 C\n",
      "Russia - 3.7 C\n",
      "Poland - 12.0 C\n"
     ]
    }
   ],
   "source": [
    "countries_temperature = [\n",
    "['Thailand', [75.2, 77, 78.8, 73.4, 68, 75.2, 77]],\n",
    "['Germany', [57.2, 55.4, 59, 59, 53.6]],\n",
    "['Russia', [35.6, 37.4, 39.2, 41, 42.8, 39.2, 35.6]],\n",
    "['Poland', [50, 50, 53.6, 57.2, 55.4, 55.4]]\n",
    "]\n",
    "for i in countries_temperature:\n",
    "    print(i[0], '-', round((sum(i[1])/ len(i[1]) -32)/1.8,1), 'C')"
   ]
  },
  {
   "cell_type": "markdown",
   "metadata": {},
   "source": [
    "Задание 5 (необязательное)\n",
    "Дан поток логов по количеству просмотренных страниц для каждого пользователя. Вам необходимо написать алгоритм, который считает среднее значение просмотров на пользователя. Т. е. надо посчитать отношение суммы всех просмотров к количеству уникальных пользователей."
   ]
  },
  {
   "cell_type": "code",
   "execution_count": 3,
   "metadata": {},
   "outputs": [],
   "source": [
    "streams = [\n",
    "'2018-01-01,user1,3',\n",
    "'2018-01-07,user1,4',\n",
    "'2018-03-29,user1,1',\n",
    "'2018-04-04,user1,13',\n",
    "'2018-01-05,user2,7',\n",
    "'2018-06-14,user3,4',\n",
    "'2018-07-02,user3,10',\n",
    "'2018-03-21,user4,19',\n",
    "'2018-03-22,user4,4',\n",
    "'2018-04-22,user4,8',\n",
    "'2018-05-03,user4,9',\n",
    "'2018-05-11,user4,11',\n",
    "]\n",
    "\n",
    "users_list = []\n",
    "views_list = []\n",
    "for stream in streams:\n",
    "    splitted_stream = stream.split(',')\n",
    "    user = splitted_stream[1]\n",
    "    views = splitted_stream[2]\n",
    "    if user not in users_list:\n",
    "        users_list.append(user)\n",
    "        views_list.insert(users_list.index(user), [int(views)])     \n",
    "    else:\n",
    "        views_list[users_list.index(user)] += [int(views)]"
   ]
  },
  {
   "cell_type": "code",
   "execution_count": 4,
   "metadata": {},
   "outputs": [
    {
     "name": "stdout",
     "output_type": "stream",
     "text": [
      "['user1', 'user2', 'user3', 'user4']\n",
      "[[3, 4, 1, 13], [7], [4, 10], [19, 4, 8, 9, 11]]\n",
      " У user1 среднее количество просмотров: 5.25\n",
      " У user2 среднее количество просмотров: 7.0\n",
      " У user3 среднее количество просмотров: 7.0\n",
      " У user4 среднее количество просмотров: 10.2\n"
     ]
    }
   ],
   "source": [
    "print(users_list)\n",
    "print(views_list)\n",
    "for u, v in zip(users_list, views_list):\n",
    "    print(f' У {u} среднее количество просмотров: {sum(v)/len(v)}')"
   ]
  }
 ],
 "metadata": {
  "kernelspec": {
   "display_name": "Python 3",
   "language": "python",
   "name": "python3"
  },
  "language_info": {
   "codemirror_mode": {
    "name": "ipython",
    "version": 3
   },
   "file_extension": ".py",
   "mimetype": "text/x-python",
   "name": "python",
   "nbconvert_exporter": "python",
   "pygments_lexer": "ipython3",
   "version": "3.8.3"
  }
 },
 "nbformat": 4,
 "nbformat_minor": 4
}
