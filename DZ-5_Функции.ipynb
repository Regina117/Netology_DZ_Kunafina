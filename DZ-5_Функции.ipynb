{
 "cells": [
  {
   "cell_type": "markdown",
   "metadata": {},
   "source": [
    "Вам нужно помочь секретарю автоматизировать работу. Для этого нужно написать программу, которая будет на основе хранимых данных исполнять пользовательские команды.\n",
    "\n",
    "Исходные данные имеют следующую структуру:"
   ]
  },
  {
   "cell_type": "markdown",
   "metadata": {},
   "source": [
    "1. Пользователь по команде “p” может узнать владельца документа по его номеру"
   ]
  },
  {
   "cell_type": "code",
   "execution_count": 2,
   "metadata": {},
   "outputs": [
    {
     "name": "stdout",
     "output_type": "stream",
     "text": [
      "Введите номер документа:11-2\n",
      "Геннадий Покемонов\n"
     ]
    }
   ],
   "source": [
    "documents = [\n",
    "{'type': 'passport', 'number': '2207 876234', 'name': 'Василий Гупкин'},\n",
    "{'type': 'invoice', 'number': '11-2', 'name': 'Геннадий Покемонов'},\n",
    "{'type': 'insurance', 'number': '10006', 'name': 'Аристарх Павлов'}\n",
    "]#перечень всех документов\n",
    "\n",
    "def name_():       \n",
    "    p = input(\"Введите номер документа:\")\n",
    "    for document in documents:\n",
    "        number = document['number']\n",
    "        name = document['name']\n",
    "        if number == p:\n",
    "            print(document['name'])\n",
    "            return \n",
    "    print(\"Документ не найден\")\n",
    "    return\n",
    "name_()\n",
    "    "
   ]
  },
  {
   "cell_type": "markdown",
   "metadata": {},
   "source": [
    "Пункт 2. Пользователь по команде “s” может по номеру документа узнать на какой полке он хранится"
   ]
  },
  {
   "cell_type": "code",
   "execution_count": 1,
   "metadata": {},
   "outputs": [
    {
     "name": "stdout",
     "output_type": "stream",
     "text": [
      "Введите номер документа:11-2\n"
     ]
    },
    {
     "data": {
      "text/plain": [
       "'1'"
      ]
     },
     "execution_count": 1,
     "metadata": {},
     "output_type": "execute_result"
    }
   ],
   "source": [
    "documents = [\n",
    "{'type': 'passport', 'number': '2207 876234', 'name': 'Василий Гупкин'},\n",
    "{'type': 'invoice', 'number': '11-2', 'name': 'Геннадий Покемонов'},\n",
    "{'type': 'insurance', 'number': '10006', 'name': 'Аристарх Павлов'}\n",
    "]#перечень всех документов\n",
    "\n",
    "directories = {\n",
    "'1': ['2207 876234', '11-2'],\n",
    "'2': ['10006'],\n",
    "'3': []\n",
    "}  \n",
    " #перечень полок, на которых хранятся документы (если документ есть в documents, то он обязательно должен быть и в directories)\n",
    "def num_():  \n",
    "    s = input(\"Введите номер документа:\")\n",
    "    for directorie in directories:\n",
    "        if s in directories[directorie]:\n",
    "            return directorie \n",
    "    return \"Документ не найден\"\n",
    "\n",
    "num_()"
   ]
  },
  {
   "cell_type": "markdown",
   "metadata": {},
   "source": [
    "Пункт 3. Пользователь по команде “l” может увидеть полную информацию по всем документам"
   ]
  },
  {
   "cell_type": "code",
   "execution_count": 3,
   "metadata": {
    "scrolled": true
   },
   "outputs": [
    {
     "name": "stdout",
     "output_type": "stream",
     "text": [
      "№:  2207 876234 тип:  passport владелец:  Василий Гупкин полка хранения: 1\n",
      "№:  11-2 тип:  invoice владелец:  Геннадий Покемонов полка хранения: 1\n",
      "№:  10006 тип:  insurance владелец:  Аристарх Павлов полка хранения: 2\n",
      "{'type': 'passport', 'number': '2207 876234', 'name': 'Василий Гупкин', 'directory': '1'}\n",
      "{'type': 'invoice', 'number': '11-2', 'name': 'Геннадий Покемонов', 'directory': '1'}\n",
      "{'type': 'insurance', 'number': '10006', 'name': 'Аристарх Павлов', 'directory': '2'}\n"
     ]
    }
   ],
   "source": [
    "documents = [\n",
    "{'type': 'passport', 'number': '2207 876234', 'name': 'Василий Гупкин'},\n",
    "{'type': 'invoice', 'number': '11-2', 'name': 'Геннадий Покемонов'},\n",
    "{'type': 'insurance', 'number': '10006', 'name': 'Аристарх Павлов'}\n",
    "]\n",
    "directories = {\n",
    "'1': ['2207 876234', '11-2'],\n",
    "'2': ['10006'],\n",
    "'3': []\n",
    "}\n",
    "\n",
    "def full_():       \n",
    "    for document in documents:\n",
    "        doc_num = document['number']\n",
    "        doc_type = document['type']\n",
    "        doc_name = document['name']\n",
    "        for key, value in directories.items():\n",
    "            if document['number'] in value:\n",
    "                x = key\n",
    "        print(\"№: \",  doc_num,   \"тип: \",  doc_type, 'владелец: ', doc_name,  \"полка хранения:\", x)\n",
    "full_()     \n",
    "        \n",
    "\n",
    "def full_():       \n",
    "    for document in documents:\n",
    "        dir = list(filter(lambda e: document['number'] in e[1], directories.items()))[0]\n",
    "        document['directory'] = dir[0]\n",
    "        print(document)\n",
    "full_()\n"
   ]
  },
  {
   "cell_type": "code",
   "execution_count": 15,
   "metadata": {},
   "outputs": [
    {
     "name": "stdout",
     "output_type": "stream",
     "text": [
      "№:  2207 876234 тип:  passport владелец:  Василий Гупкин полка хранения: 1\n",
      "№:  11-2 тип:  invoice владелец:  Геннадий Покемонов полка хранения: 1\n",
      "№:  10006 тип:  insurance владелец:  Аристарх Павлов полка хранения: 2\n"
     ]
    }
   ],
   "source": [
    "documents = [\n",
    "{'type': 'passport', 'number': '2207 876234', 'name': 'Василий Гупкин'},\n",
    "{'type': 'invoice', 'number': '11-2', 'name': 'Геннадий Покемонов'},\n",
    "{'type': 'insurance', 'number': '10006', 'name': 'Аристарх Павлов'}\n",
    "]\n",
    "directories = {\n",
    "'1': ['2207 876234', '11-2'],\n",
    "'2': ['10006'],\n",
    "'3': []\n",
    "}\n",
    "\n",
    "def all_doc():\n",
    "    for el in documents:\n",
    "        for k, v in directories.items():\n",
    "            if el['number'] in v:\n",
    "                i = k \n",
    "                print(\"№: \", el['number'],   \"тип: \",  el[\"type\"], 'владелец: ', el['name'], \"полка хранения:\", i)         \n",
    "all_doc()\n",
    "    "
   ]
  },
  {
   "cell_type": "markdown",
   "metadata": {},
   "source": [
    "Пункт 4. Пользователь по команде “as” может добавить новую полку"
   ]
  },
  {
   "cell_type": "code",
   "execution_count": 4,
   "metadata": {},
   "outputs": [
    {
     "name": "stdout",
     "output_type": "stream",
     "text": [
      "Введите номер новой полки: 1\n",
      "Такая полка уже существует. Текущий перечень полок ['1', '2', '3']\n"
     ]
    }
   ],
   "source": [
    "documents = [\n",
    "{'type': 'passport', 'number': '2207 876234', 'name': 'Василий Гупкин'},\n",
    "{'type': 'invoice', 'number': '11-2', 'name': 'Геннадий Покемонов'},\n",
    "{'type': 'insurance', 'number': '10006', 'name': 'Аристарх Павлов'}\n",
    "]\n",
    "directories = {\n",
    "'1': ['2207 876234', '11-2'],\n",
    "'2': ['10006'],\n",
    "'3': []\n",
    "}\n",
    "def add_s(direct):\n",
    "    as_ = input(\"Введите номер новой полки: \")\n",
    "    for k, v in direct.items():\n",
    "        if as_ == k:\n",
    "            print(f'Такая полка уже существует. Текущий перечень полок {list(direct.keys())}')\n",
    "            return       \n",
    "    direct.setdefault(as_, [])\n",
    "    print(f'Полка добавлена. Текущий перечень полок {list(direct.keys())}')\n",
    "add_s(directories)\n"
   ]
  },
  {
   "cell_type": "markdown",
   "metadata": {},
   "source": [
    "Пункт 5. Пользователь по команде “ds” может удалить существующую полку из данных (только если она пустая)"
   ]
  },
  {
   "cell_type": "code",
   "execution_count": 4,
   "metadata": {},
   "outputs": [
    {
     "name": "stdout",
     "output_type": "stream",
     "text": [
      "Введите номер документа, который хотите удалить: 3\n",
      "Текущий перечень полок\n",
      "{'1': ['2207 876234', '11-2'], '2': ['10006'], '3': []}\n"
     ]
    }
   ],
   "source": [
    "documents = [\n",
    "{'type': 'passport', 'number': '2207 876234', 'name': 'Василий Гупкин'},\n",
    "{'type': 'invoice', 'number': '11-2', 'name': 'Геннадий Покемонов'},\n",
    "{'type': 'insurance', 'number': '10006', 'name': 'Аристарх Павлов'}\n",
    "]\n",
    "directories = {\n",
    "'1': ['2207 876234', '11-2'],\n",
    "'2': ['10006'],\n",
    "'3': []\n",
    "}\n",
    "\n",
    "def delete():\n",
    "    ds = input(\"Введите номер документа, который хотите удалить: \")\n",
    "    for value in directories.values():\n",
    "        if ds in directories.keys() and directories[ds] == []: #\n",
    "            if ds in value:\n",
    "                value = directories.get(ds)\n",
    "                value.remove(ds)\n",
    "            return \"Текущий перечень полок\"\n",
    "        elif ds in directories.keys() and directories[ds] != []:  #\n",
    "            return \"Полка не пустая\"   \n",
    "        else:\n",
    "            return \"Такой полки нет\"\n",
    "            \n",
    "print(delete())\n",
    "print(directories)\n",
    "\n",
    " #\n",
    "#del(directories[value])\n"
   ]
  },
  {
   "cell_type": "code",
   "execution_count": null,
   "metadata": {},
   "outputs": [
    {
     "name": "stdout",
     "output_type": "stream",
     "text": [
      "\n",
      "p – команда, которая спросит номер документа и выведет имя человека, которому он принадлежит\n",
      "l – команда, которая выведет список всех документов\n",
      "s – команда, которая спросит номер документа и выведет номер полки, на которой он находится\n",
      "a – команда, которая добавит новый документ в катало\n",
      "d – команда, которая спросит номер документа и удалит его из каталога и из перечня полок\n",
      "Введите командуp\n",
      "Введите номер документа:11-2\n",
      "Геннадий Покемонов\n",
      "\n",
      "p – команда, которая спросит номер документа и выведет имя человека, которому он принадлежит\n",
      "l – команда, которая выведет список всех документов\n",
      "s – команда, которая спросит номер документа и выведет номер полки, на которой он находится\n",
      "a – команда, которая добавит новый документ в катало\n",
      "d – команда, которая спросит номер документа и удалит его из каталога и из перечня полок\n",
      "Введите командуl\n",
      "{'type': 'passport', 'number': '2207 876234', 'name': 'Василий Гупкин', 'directory': '1'}\n",
      "{'type': 'invoice', 'number': '11-2', 'name': 'Геннадий Покемонов', 'directory': '1'}\n",
      "{'type': 'insurance', 'number': '10006', 'name': 'Аристарх Павлов', 'directory': '2'}\n",
      "\n",
      "p – команда, которая спросит номер документа и выведет имя человека, которому он принадлежит\n",
      "l – команда, которая выведет список всех документов\n",
      "s – команда, которая спросит номер документа и выведет номер полки, на которой он находится\n",
      "a – команда, которая добавит новый документ в катало\n",
      "d – команда, которая спросит номер документа и удалит его из каталога и из перечня полок\n",
      "Введите командуs\n",
      "\n",
      "p – команда, которая спросит номер документа и выведет имя человека, которому он принадлежит\n",
      "l – команда, которая выведет список всех документов\n",
      "s – команда, которая спросит номер документа и выведет номер полки, на которой он находится\n",
      "a – команда, которая добавит новый документ в катало\n",
      "d – команда, которая спросит номер документа и удалит его из каталога и из перечня полок\n"
     ]
    }
   ],
   "source": [
    "documents = [\n",
    "{'type': 'passport', 'number': '2207 876234', 'name': 'Василий Гупкин'},\n",
    "{'type': 'invoice', 'number': '11-2', 'name': 'Геннадий Покемонов'},\n",
    "{'type': 'insurance', 'number': '10006', 'name': 'Аристарх Павлов'}\n",
    "]\n",
    "directories = {\n",
    "'1': ['2207 876234', '11-2'],\n",
    "'2': ['10006'],\n",
    "'3': []\n",
    "}\n",
    "\n",
    "def all_func():\n",
    "    while True:\n",
    "        print('\\n' 'p – команда, которая спросит номер документа и выведет имя человека, которому он принадлежит'\n",
    "              '\\n' 'l – команда, которая выведет список всех документов'\n",
    "              '\\n' 's – команда, которая спросит номер документа и выведет номер полки, на которой он находится'\n",
    "              '\\n' 'a – команда, которая добавит новый документ в катало'\n",
    "              '\\n' 'd – команда, которая спросит номер документа и удалит его из каталога и из перечня полок')\n",
    "        user_input = input(\"Введите команду\")\n",
    "        if user_input == 'p':\n",
    "            name_()\n",
    "        elif user_input == 's':\n",
    "            num_()\n",
    "        elif user_input == 'l':\n",
    "            full_()\n",
    "        elif user_input == 'as':\n",
    "            add_s(directories)\n",
    "        elif user_input == 'ds':\n",
    "            delete()\n",
    "            break\n",
    "        else:\n",
    "            print('Введена неверная команда')\n",
    "all_func()"
   ]
  },
  {
   "cell_type": "code",
   "execution_count": 6,
   "metadata": {},
   "outputs": [
    {
     "name": "stdout",
     "output_type": "stream",
     "text": [
      "Введите номер полки: 3\n",
      "Полка удалена. Текущий перечень полок: 1, 2\n"
     ]
    }
   ],
   "source": [
    "def delete_shelf():\n",
    "    number = input('Введите номер полки: ')\n",
    "    if number in list(directories.keys()) and directories[number] == []:\n",
    "        del directories[number]\n",
    "        print('Полка удалена. Текущий перечень полок: ', end='')\n",
    "        print(*list(directories.keys()), sep=', ')\n",
    "    elif number in directories and directories[number] != []:\n",
    "        print('На полке есть документы, удалите их перед удалением полки. Текущий перечень полок: ', end='')\n",
    "        print(*list(directories.keys()), sep=', ')\n",
    "    else:\n",
    "        print('Такой полки не существует. Текущий перечень полок: ', end='')\n",
    "        print(*list(directories.keys()), sep=', ')\n",
    "delete_shelf()"
   ]
  },
  {
   "cell_type": "code",
   "execution_count": null,
   "metadata": {},
   "outputs": [],
   "source": []
  }
 ],
 "metadata": {
  "kernelspec": {
   "display_name": "Python 3",
   "language": "python",
   "name": "python3"
  },
  "language_info": {
   "codemirror_mode": {
    "name": "ipython",
    "version": 3
   },
   "file_extension": ".py",
   "mimetype": "text/x-python",
   "name": "python",
   "nbconvert_exporter": "python",
   "pygments_lexer": "ipython3",
   "version": "3.8.3"
  }
 },
 "nbformat": 4,
 "nbformat_minor": 4
}
