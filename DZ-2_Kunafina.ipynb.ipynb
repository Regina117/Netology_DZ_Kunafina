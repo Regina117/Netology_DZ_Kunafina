{
 "cells": [
  {
   "cell_type": "markdown",
   "metadata": {},
   "source": [
    "Задача 1"
   ]
  },
  {
   "cell_type": "code",
   "execution_count": 1,
   "metadata": {},
   "outputs": [
    {
     "data": {
      "text/plain": [
       "True"
      ]
     },
     "execution_count": 1,
     "metadata": {},
     "output_type": "execute_result"
    }
   ],
   "source": [
    "len('Насколько проще было бы писать программы, если бы не заказчики') > len('640Кб должно хватить для любых задач. Билл Гейтс (по легенде)')"
   ]
  },
  {
   "cell_type": "code",
   "execution_count": 2,
   "metadata": {},
   "outputs": [
    {
     "data": {
      "text/plain": [
       "True"
      ]
     },
     "execution_count": 2,
     "metadata": {},
     "output_type": "execute_result"
    }
   ],
   "source": [
    "len('640Кб должно хватить для любых задач. Билл Гейтс (по легенде)')<len('Насколько проще было бы писать программы, если бы не заказчики')"
   ]
  },
  {
   "cell_type": "code",
   "execution_count": 3,
   "metadata": {},
   "outputs": [
    {
     "data": {
      "text/plain": [
       "True"
      ]
     },
     "execution_count": 3,
     "metadata": {},
     "output_type": "execute_result"
    }
   ],
   "source": [
    "len('Насколько проще было бы писать программы, если бы не заказчики')==len('Насколько проще было бы писать программы, если бы не заказчики')"
   ]
  },
  {
   "cell_type": "markdown",
   "metadata": {},
   "source": [
    "Задача 2. Определение високосного года. Год должен быть кратным 4, не кратен 100, но кратен 400"
   ]
  },
  {
   "cell_type": "code",
   "execution_count": 1,
   "metadata": {},
   "outputs": [
    {
     "name": "stdout",
     "output_type": "stream",
     "text": [
      "Введите год:2020\n",
      "Високосный год\n"
     ]
    }
   ],
   "source": [
    "year = int(input('Введите год:')) \n",
    "if (year % 4 == 0) and (year % 100 != 0) or (year % 400 == 0):\n",
    "    print('Високосный год')\n",
    "else:\n",
    "    print('Обычный год')"
   ]
  },
  {
   "cell_type": "markdown",
   "metadata": {},
   "source": [
    "Задача 3. Определение знака зодиака. 20.01 - 18.02 - Водолей 19.02 - 20.03 - Рыбы 21.03 - 19.04 - Овен 20.04 - 20.05 - Телец 21.05 - 21.06 - Близнецы 22.06 - 22.07 - Рак 23.07 - 22.08 - Лев 23.08 - 22.09 - Дева 23.09 - 22.10 - Весы 23.10 - 22.11 - Скорпион 23.11 - 21.12 - Стрелец 22.12 - 19.01 - Козерог"
   ]
  },
  {
   "cell_type": "code",
   "execution_count": 4,
   "metadata": {},
   "outputs": [
    {
     "name": "stdout",
     "output_type": "stream",
     "text": [
      "MonthМарт\n",
      "Date4\n",
      "Рыбы\n"
     ]
    }
   ],
   "source": [
    "m = str(input('Month'))\n",
    "d = int(input('Date'))\n",
    "if m == 'Январь' and d >= 1 and d <= 20:\n",
    "    print('Козерог')\n",
    "elif m == 'Январь' and d >= 21 and d <= 31:\n",
    "    print('Водолей')\n",
    "elif m == 'Февраль' and d >= 1 and d <= 20:\n",
    "    print('Водолей')\n",
    "elif m == 'Февраль' and d >= 21 and d <= 28:\n",
    "    print('Рыбы')    \n",
    "elif m == 'Март' and d >= 1 and d <= 20:\n",
    "    print('Рыбы')       \n",
    "elif m == 'Март' and d >= 21 and d <= 31:\n",
    "    print('Овен')\n",
    "elif m == 'Апрель' and d >= 1 and d <= 20:\n",
    "    print('Овен')\n",
    "elif m == 'Апрель' and d >= 21 and d <= 30:\n",
    "    print('Телец')\n",
    "elif m == 'Май' and d >= 1 and d <= 21:\n",
    "    print('Телец')\n",
    "elif m == 'Май' and d >= 22 and d <= 31:\n",
    "    print('Близнецы')\n",
    "elif m == 'Июнь' and d >= 1 and d <= 22:\n",
    "    print('Близнецы')\n",
    "elif m == 'Июнь' and d >= 23 and d <= 30:\n",
    "    print('Рак')\n",
    "elif m == 'Июль' and d >= 1 and d <= 22:\n",
    "    print('Рак')\n",
    "elif m == 'Июль' and d >= 23 and d <= 31:\n",
    "    print('Лев')\n",
    "elif m == 'Август' and d >= 1 and d <= 22:\n",
    "    print('Лев')\n",
    "elif m == 'Август' and d >= 23 and d <= 31:\n",
    "    print('Дева')\n",
    "elif m == 'Сентябрь' and d >= 1 and d <= 22:\n",
    "    print('Дева')\n",
    "elif m == 'Сентябрь' and d >= 23 and d <= 31:\n",
    "    print('Весы')\n",
    "elif m == 'Октябрь' and d >= 1 and d <= 22:\n",
    "    print('Весы')\n",
    "elif m == 'Октябрь' and d >= 23 and d <= 31:\n",
    "    print('Скорпион')\n",
    "elif m == 'Ноябрь' and d >= 1 and d <= 22:\n",
    "    print('Скорпион')\n",
    "elif m == 'Ноябрь' and d >= 23 and d <= 30:\n",
    "    print('Стрелец')\n",
    "elif m == 'Декабрь' and d >= 1 and d <= 22:\n",
    "    print('Стрелец')\n",
    "elif m == 'Декабрь' and d >= 23 and d <= 31:\n",
    "    print('Козерог')"
   ]
  },
  {
   "cell_type": "markdown",
   "metadata": {},
   "source": [
    "Задание 4 \n",
    "Вам нужно написать программу для подбора упаковок по размерам товара. Размеры хранятся в переменных (в сантиметрах):\n",
    "width = 10 length = 205 height = 5 Используйте следующие правила:\n",
    "если каждое из трех измерений менее 15 сантиметров, то выведите на экран \"Коробка №1\"; если хотя бы одно из измерений больше 15 сантиметров, но менее 50 сантиметров, то выводите \"Коробка №2\"; если длина товара больше 2 метров, то выводите \"Упаковка для лыж\"; во всех остальных случаях выводите \"Стандартная коробка №3\".\n"
   ]
  },
  {
   "cell_type": "code",
   "execution_count": 1,
   "metadata": {},
   "outputs": [
    {
     "name": "stdout",
     "output_type": "stream",
     "text": [
      "Коробка №2\n"
     ]
    }
   ],
   "source": [
    "width = 10\n",
    "length = 205\n",
    "height = 5\n",
    "if width < 15 and length < 15 and height < 15:\n",
    "    print('Коробка №1')\n",
    "elif width > 15 and length < 15 and height < 15:\n",
    "    print('Коробка №2')\n",
    "elif width < 15 and length > 15 and height < 15:\n",
    "    print('Коробка №2')  \n",
    "elif width < 15 and length < 15 and height > 15:\n",
    "    print('Коробка №2')\n",
    "elif length > 200:\n",
    "    print('Упаковка для лыж')\n",
    "else:\n",
    "    print('Стандартная коробка №3')"
   ]
  },
  {
   "cell_type": "markdown",
   "metadata": {},
   "source": [
    "Задание 5 (необязательное)\n",
    "Дана переменная, в которой хранится шестизначное число (номер проездного билета). Напишите программу, которая будет определять, является ли данный билет \"счастливым\". Билет считается счастливым, если сумма первых трех цифр совпадает с суммой последних трех цифр номера."
   ]
  },
  {
   "cell_type": "code",
   "execution_count": 2,
   "metadata": {},
   "outputs": [
    {
     "name": "stdout",
     "output_type": "stream",
     "text": [
      "Введите 6-ти значный номер билета: 459985\n",
      "Несчастливый билет\n"
     ]
    }
   ],
   "source": [
    "bilet = str(input('Введите 6-ти значный номер билета: '))\n",
    "num1 = int(bilet[0]) + int(bilet[1]) + int(bilet[2])\n",
    "num2 = int(bilet[3]) + int(bilet[4]) + int(bilet[5])\n",
    "if num1 == num2:\n",
    "    print('Счастливый билет')\n",
    "else:\n",
    "    print('Несчастливый билет')"
   ]
  },
  {
   "cell_type": "markdown",
   "metadata": {},
   "source": [
    "Задание 6 (необязательное)\n",
    "Напишите программу, которая сможет вычислять площади трех фигур (круг, треугольник и прямоугольник). Тип фигуры запрашиваем через пользовательский ввод, после чего делаем запрос характеристик фигуры:\n",
    "\n",
    "если пользователь выбрал круг, запрашиваем его радиус,\n",
    "если треугольник – длины трех его сторон;\n",
    "если прямоугольник – длины двух его сторон."
   ]
  },
  {
   "cell_type": "code",
   "execution_count": 16,
   "metadata": {},
   "outputs": [
    {
     "ename": "SyntaxError",
     "evalue": "invalid syntax (<ipython-input-16-c706557ae02f>, line 2)",
     "output_type": "error",
     "traceback": [
      "\u001b[1;36m  File \u001b[1;32m\"<ipython-input-16-c706557ae02f>\"\u001b[1;36m, line \u001b[1;32m2\u001b[0m\n\u001b[1;33m    figura = ['круг', 'треугольник', 'прямоугольник']\u001b[0m\n\u001b[1;37m         ^\u001b[0m\n\u001b[1;31mSyntaxError\u001b[0m\u001b[1;31m:\u001b[0m invalid syntax\n"
     ]
    }
   ],
   "source": [
    "Tip_figura = str(input(\"figura:\" )\n",
    "figura = ['круг', 'треугольник', 'прямоугольник']\n",
    "if figura = 'круг':\n",
    "    print('R**2*3,1415')\n",
    "elif figura = 'треугольник':\n",
    "    print('L')\n",
    "elif figura = 'прямоугольник':\n",
    "    print('L**2')"
   ]
  },
  {
   "cell_type": "code",
   "execution_count": null,
   "metadata": {},
   "outputs": [],
   "source": []
  }
 ],
 "metadata": {
  "kernelspec": {
   "display_name": "Python 3",
   "language": "python",
   "name": "python3"
  },
  "language_info": {
   "codemirror_mode": {
    "name": "ipython",
    "version": 3
   },
   "file_extension": ".py",
   "mimetype": "text/x-python",
   "name": "python",
   "nbconvert_exporter": "python",
   "pygments_lexer": "ipython3",
   "version": "3.7.6"
  }
 },
 "nbformat": 4,
 "nbformat_minor": 4
}
